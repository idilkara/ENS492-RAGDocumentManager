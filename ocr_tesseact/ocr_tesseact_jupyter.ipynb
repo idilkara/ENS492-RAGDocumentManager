{
 "cells": [
  {
   "cell_type": "code",
   "execution_count": null,
   "metadata": {},
   "outputs": [
    {
     "name": "stdout",
     "output_type": "stream",
     "text": [
      "<PIL.Image.Image image mode=RGB size=714x584 at 0x186FEFE1B50>\n"
     ]
    }
   ],
   "source": [
    "\n",
    "IMAGE_PATH =  r\"\" # path to   image\n",
    "TESSERACT_PATH = r\"\" # path to tesseract executable\n",
    "\n",
    "\n",
    "\n",
    "import pytesseract\n",
    "from PIL import Image\n",
    "\n",
    "pytesseract.pytesseract.tesseract_cmd = TESSERACT_PATH\n",
    "\n",
    "SYSTEM_PROMPT = \"\"\"Act as an OCR assistant. Analyze the provided image and:\n",
    "1. Recognize all visible text in the image as accurately as possible.\n",
    "2. Maintain the original structure and formatting of the text.\n",
    "3. If any words or phrases are unclear, indicate this with [unclear] in your transcription.\n",
    "Provide only the transcription without any additional comments.\"\"\"\n",
    "\n",
    "def perform_ocr(image_path):\n",
    "    \"\"\"Perform OCR on the given image using Tesseract.\"\"\"\n",
    "    try:\n",
    "        # Open the image file\n",
    "        img = Image.open(image_path)\n",
    "        \n",
    "        # Perform OCR using Tesseract\n",
    "        text = pytesseract.image_to_string(img)\n",
    "        \n",
    "        # Format the result based on SYSTEM_PROMPT\n",
    "        # (Here, the SYSTEM_PROMPT is ignored since Tesseract is used directly)\n",
    "        return text\n",
    "    except Exception as e:\n",
    "        print(f\"Error performing OCR: {e}\")\n",
    "        return None\n",
    "\n",
    "if __name__ == \"__main__\":\n",
    "    image_path = IMAGE_PATH\n",
    "    result = perform_ocr(image_path)\n",
    "    if result:\n",
    "        print(\"OCR Recognition Result:\")\n",
    "        print(result)"
   ]
  }
 ],
 "metadata": {
  "kernelspec": {
   "display_name": "Python 3",
   "language": "python",
   "name": "python3"
  },
  "language_info": {
   "codemirror_mode": {
    "name": "ipython",
    "version": 3
   },
   "file_extension": ".py",
   "mimetype": "text/x-python",
   "name": "python",
   "nbconvert_exporter": "python",
   "pygments_lexer": "ipython3",
   "version": "3.11.9"
  }
 },
 "nbformat": 4,
 "nbformat_minor": 2
}
