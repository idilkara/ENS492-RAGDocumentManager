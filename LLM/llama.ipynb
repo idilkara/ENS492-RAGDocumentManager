{
 "cells": [
  {
   "cell_type": "code",
   "execution_count": 1,
   "metadata": {},
   "outputs": [
    {
     "name": "stdout",
     "output_type": "stream",
     "text": [
      "Note: you may need to restart the kernel to use updated packages.\n"
     ]
    },
    {
     "name": "stderr",
     "output_type": "stream",
     "text": [
      "\n",
      "[notice] A new release of pip is available: 24.0 -> 24.3.1\n",
      "[notice] To update, run: python.exe -m pip install --upgrade pip\n"
     ]
    },
    {
     "name": "stdout",
     "output_type": "stream",
     "text": [
      "Note: you may need to restart the kernel to use updated packages.\n"
     ]
    },
    {
     "name": "stderr",
     "output_type": "stream",
     "text": [
      "\n",
      "[notice] A new release of pip is available: 24.0 -> 24.3.1\n",
      "[notice] To update, run: python.exe -m pip install --upgrade pip\n"
     ]
    },
    {
     "name": "stdout",
     "output_type": "stream",
     "text": [
      "Note: you may need to restart the kernel to use updated packages.\n"
     ]
    },
    {
     "name": "stderr",
     "output_type": "stream",
     "text": [
      "\n",
      "[notice] A new release of pip is available: 24.0 -> 24.3.1\n",
      "[notice] To update, run: python.exe -m pip install --upgrade pip\n"
     ]
    },
    {
     "name": "stdout",
     "output_type": "stream",
     "text": [
      "Note: you may need to restart the kernel to use updated packages.\n"
     ]
    },
    {
     "name": "stderr",
     "output_type": "stream",
     "text": [
      "\n",
      "[notice] A new release of pip is available: 24.0 -> 24.3.1\n",
      "[notice] To update, run: python.exe -m pip install --upgrade pip\n"
     ]
    }
   ],
   "source": [
    "# Document loading, retrieval methods and text splitting\n",
    "%pip install -qU langchain langchain_community\n",
    "\n",
    "# Local vector store via Chroma\n",
    "%pip install -qU langchain_chroma\n",
    "\n",
    "# Local inference and embeddings via Ollama\n",
    "%pip install -qU langchain_ollama\n",
    "\n",
    "# Web Loader\n",
    "%pip install -qU beautifulsoup4\n"
   ]
  },
  {
   "cell_type": "code",
   "execution_count": 2,
   "metadata": {},
   "outputs": [
    {
     "name": "stdout",
     "output_type": "stream",
     "text": [
      "Requirement already satisfied: pypdf in c:\\users\\idilk\\desktop\\su-document-management\\myenv-forllama\\lib\\site-packages (5.1.0)\n",
      "Note: you may need to restart the kernel to use updated packages.\n"
     ]
    },
    {
     "name": "stderr",
     "output_type": "stream",
     "text": [
      "\n",
      "[notice] A new release of pip is available: 24.0 -> 24.3.1\n",
      "[notice] To update, run: python.exe -m pip install --upgrade pip\n"
     ]
    }
   ],
   "source": [
    "%pip install pypdf"
   ]
  },
  {
   "cell_type": "code",
   "execution_count": 3,
   "metadata": {},
   "outputs": [
    {
     "name": "stdout",
     "output_type": "stream",
     "text": [
      "<langchain_community.document_loaders.pdf.PyPDFDirectoryLoader object at 0x000001A62351E910>\n",
      "6\n"
     ]
    }
   ],
   "source": [
    "from langchain_community.document_loaders import PyPDFDirectoryLoader\n",
    "# Path to the folder containing PDF files\n",
    "pdf_folder_path = \"..\\DB\\sample-docs\"\n",
    "\n",
    "pdf_loader = PyPDFDirectoryLoader(pdf_folder_path)\n",
    "print(pdf_loader)\n",
    "\n",
    "documents = pdf_loader.load()\n",
    "print(len(documents))"
   ]
  },
  {
   "cell_type": "code",
   "execution_count": 4,
   "metadata": {},
   "outputs": [
    {
     "name": "stdout",
     "output_type": "stream",
     "text": [
      "6\n"
     ]
    },
    {
     "data": {
      "text/plain": [
       "{'source': '..\\\\DB\\\\sample-docs\\\\eaquals-accreditation-certificate_sabanci-university-sl_2020.pdf',\n",
       " 'page': 0}"
      ]
     },
     "execution_count": 4,
     "metadata": {},
     "output_type": "execute_result"
    }
   ],
   "source": [
    "from langchain.text_splitter import RecursiveCharacterTextSplitter\n",
    "# Split text into chunks (chunklarla oynanacak)\n",
    "text_splitter = RecursiveCharacterTextSplitter(chunk_size=1000, chunk_overlap=200)\n",
    "documents = text_splitter.split_documents(documents)\n",
    "\n",
    "print(len(documents))\n",
    "\n",
    "documents[0].page_content\n",
    "documents[0].metadata"
   ]
  },
  {
   "cell_type": "code",
   "execution_count": 5,
   "metadata": {},
   "outputs": [
    {
     "name": "stdout",
     "output_type": "stream",
     "text": [
      "1.15.1\n"
     ]
    },
    {
     "name": "stderr",
     "output_type": "stream",
     "text": [
      "c:\\Users\\idilk\\Desktop\\su-document-management\\myenv-forLLAMA\\Lib\\site-packages\\onnxruntime\\capi\\_pybind_state.py:26: UserWarning: Please install the 2019 Visual C++ runtime and then try again. If you've installed the runtime in a non-standard location (other than %SystemRoot%\\System32), make sure it can be found by setting the correct path.\n",
      "  warnings.warn(\"Please install the 2019 Visual C++ runtime and then try again. \"\n"
     ]
    }
   ],
   "source": [
    "\n",
    "import onnxruntime\n",
    "print(onnxruntime.__version__)\n"
   ]
  },
  {
   "cell_type": "code",
   "execution_count": 8,
   "metadata": {},
   "outputs": [],
   "source": [
    "from langchain_chroma import Chroma\n",
    "from langchain_ollama import OllamaEmbeddings\n",
    "\n",
    "local_embeddings = OllamaEmbeddings(model=\"nomic-embed-text\")\n",
    "\n",
    "vectorstore = Chroma.from_documents(documents=documents, embedding=local_embeddings)"
   ]
  },
  {
   "cell_type": "code",
   "execution_count": 9,
   "metadata": {},
   "outputs": [],
   "source": [
    "from langchain_ollama import ChatOllama\n",
    "\n",
    "model = ChatOllama(\n",
    "    model=\"llama3.2\",\n",
    ")"
   ]
  },
  {
   "cell_type": "code",
   "execution_count": 11,
   "metadata": {},
   "outputs": [
    {
     "name": "stdout",
     "output_type": "stream",
     "text": [
      "Sabancı University is a private research university located in Gaziantep, Turkey. It was founded in 1992 by Ömer Sabancı, a Turkish entrepreneur and philanthropist. The university has since grown into one of the top universities in Turkey and the Middle East.\n",
      "\n",
      "Here are some key facts about Sabancı University:\n",
      "\n",
      "1. **Academic programs**: Sabancı University offers a wide range of undergraduate and graduate degree programs in various fields, including engineering, natural sciences, social sciences, humanities, and health sciences.\n",
      "2. **Research focus**: The university has a strong research focus, with a emphasis on interdisciplinary research that addresses real-world problems. It is also a member of the Association of European Universities (EUR).\n",
      "3. **Facilities and infrastructure**: Sabancı University has invested heavily in modern facilities and infrastructure, including state-of-the-art laboratories, libraries, and research centers.\n",
      "4. **International collaborations**: The university has partnerships with over 100 international institutions and organizations, providing students with opportunities for study abroad, research collaboration, and career development.\n",
      "5. **Rankings**: Sabancı University is consistently ranked among the top universities in Turkey and the Middle East by various rankings agencies, including QS World University Rankings, Times Higher Education World University Rankings, and US News Best Global Universities.\n",
      "6. **Alumni network**: The university has a large and active alumni network, with graduates working in various fields around the world.\n",
      "\n",
      "Some of the notable departments at Sabancı University include:\n",
      "\n",
      "1. Faculty of Engineering: Offers programs in engineering disciplines such as mechanical, electrical, computer science, and civil engineering.\n",
      "2. Faculty of Natural Sciences: Offers programs in natural sciences disciplines such as biology, chemistry, physics, and mathematics.\n",
      "3. Faculty of Social Sciences: Offers programs in social sciences disciplines such as psychology, sociology, economics, and politics.\n",
      "4. Faculty of Arts and Sciences: Offers programs in humanities disciplines such as languages, literature, history, and philosophy.\n",
      "\n",
      "Overall, Sabancı University is a well-regarded institution that offers high-quality education and research opportunities to students from around the world.\n"
     ]
    }
   ],
   "source": [
    "response_message = model.invoke(\n",
    "    \"what is sabanci universyity about\"\n",
    ")\n",
    "\n",
    "print(response_message.content)"
   ]
  },
  {
   "cell_type": "code",
   "execution_count": 13,
   "metadata": {},
   "outputs": [
    {
     "data": {
      "text/plain": [
       "\"The retrieved documents appear to be from a university's accreditation report by Eaquals (European Association for Quality Assurance in Higher Education). The main themes that can be extracted from these documents are:\\n\\n1. **Quality of Teaching**: Sabancı University aims to produce individuals who can think critically, are multidisciplinary, and have strong self-confidence and communication skills.\\n2. **Infrastructure and Resources**: The university provides the best physical and digital infrastructure for teaching activities, innovative teaching models, and freedom of program and course selections.\\n3. **Student Development and Internationalization**: Sabancı University offers a range of extracurricular social and academic development opportunities, allows students to work closely with academics, and provides international education and development opportunities.\\n4. **Social Impact and Responsibility**: All teaching and research activities at Sabancı University aim to contribute to society and humanity on local and global scales, with a focus on disseminating science and technology to society.\\n5. **Administrative Excellence**: The university aims to realize teaching, research, and societal interaction activities in an efficient way, with a focus on recruiting and maintaining top-notch human resources, establishing necessary organizational structures, and creating financial resources to ensure effective use and sustainability.\\n\\nOverall, the documents highlight Sabancı University's commitment to providing high-quality education, promoting student development and internationalization, and contributing to society through research and teaching.\""
      ]
     },
     "execution_count": 13,
     "metadata": {},
     "output_type": "execute_result"
    }
   ],
   "source": [
    "# template 1 \n",
    "from langchain_core.output_parsers import StrOutputParser\n",
    "from langchain_core.prompts import ChatPromptTemplate\n",
    "\n",
    "prompt = ChatPromptTemplate.from_template(\n",
    "    \"Summarize the main themes in these retrieved docs: {docs}\"\n",
    ")\n",
    "\n",
    "\n",
    "# Convert loaded documents into strings by concatenating their content\n",
    "# and ignoring metadata\n",
    "def format_docs(docs):\n",
    "    return \"\\n\\n\".join(doc.page_content for doc in docs)\n",
    "\n",
    "\n",
    "chain = {\"docs\": format_docs} | prompt | model | StrOutputParser()\n",
    "\n",
    "question = \"tell me about accrediation of Sabanci university\"\n",
    "\n",
    "docs = vectorstore.similarity_search(question)\n",
    "\n",
    "chain.invoke(docs)"
   ]
  }
 ],
 "metadata": {
  "kernelspec": {
   "display_name": "myenv-forLLAMA",
   "language": "python",
   "name": "python3"
  },
  "language_info": {
   "codemirror_mode": {
    "name": "ipython",
    "version": 3
   },
   "file_extension": ".py",
   "mimetype": "text/x-python",
   "name": "python",
   "nbconvert_exporter": "python",
   "pygments_lexer": "ipython3",
   "version": "3.11.9"
  }
 },
 "nbformat": 4,
 "nbformat_minor": 2
}
